{
  "cells": [
    {
      "cell_type": "markdown",
      "metadata": {},
      "source": [
        "---\n",
        "title: Assignment 04\n",
        "author:\n",
        "  - name: Dakota Alder\n",
        "    affiliations:\n",
        "      - id: bu\n",
        "        name: Boston University\n",
        "        city: Boston\n",
        "        state: MA\n",
        "number-sections: true\n",
        "date: '2025-10-05'\n",
        "date-modified: today\n",
        "date-format: long\n",
        "format:\n",
        "  html:\n",
        "    theme: cerulean\n",
        "    toc: true\n",
        "    toc-depth: 2\n",
        "\n",
        "execute:\n",
        "  echo: false\n",
        "  eval: false\n",
        "  freeze: auto\n",
        "---"
      ]
    },
    {
      "cell_type": "code",
      "execution_count": 1,
      "metadata": {},
      "outputs": [
        {
          "name": "stderr",
          "output_type": "stream",
          "text": [
            "WARNING: Using incubator modules: jdk.incubator.vector\n",
            "Using Spark's default log4j profile: org/apache/spark/log4j2-defaults.properties\n",
            "Setting default log level to \"WARN\".\n",
            "To adjust logging level use sc.setLogLevel(newLevel). For SparkR, use setLogLevel(newLevel).\n",
            "25/10/08 07:59:42 WARN NativeCodeLoader: Unable to load native-hadoop library for your platform... using builtin-java classes where applicable\n",
            "                                                                                \r"
          ]
        }
      ],
      "source": [
        "from pyspark.sql import SparkSession\n",
        "import pandas as pd\n",
        "import plotly.express as px\n",
        "import plotly.io as pio\n",
        "import numpy as np\n",
        "\n",
        "np.random.seed(42)\n",
        "\n",
        "pio.renderers.default = \"notebook+notebook_connected+vscode\"\n",
        "\n",
        "# Initialize Spark Session\n",
        "spark = SparkSession.builder.appName(\"LightcastData\").getOrCreate()\n",
        "\n",
        "# Load Data\n",
        "df = spark.read.option(\"header\", \"true\").option(\"inferSchema\", \"true\").option(\"multiLine\",\"true\").option(\"escape\", \"\\\"\").csv(\"data/lightcast_job_postings.csv\")"
      ]
    },
    {
      "cell_type": "code",
      "execution_count": 2,
      "metadata": {},
      "outputs": [
        {
          "name": "stderr",
          "output_type": "stream",
          "text": [
            "[Stage 2:===========================================================(1 + 0) / 1]\r"
          ]
        },
        {
          "name": "stdout",
          "output_type": "stream",
          "text": [
            "+------------------------+\n",
            "|EMPLOYMENT_TYPE_NAME    |\n",
            "+------------------------+\n",
            "|Part-time / full-time   |\n",
            "|Part-time (â‰¤ 32 hours)|\n",
            "|Full-time (> 32 hours)  |\n",
            "|NULL                    |\n",
            "+------------------------+\n",
            "\n"
          ]
        },
        {
          "name": "stderr",
          "output_type": "stream",
          "text": [
            "                                                                                \r"
          ]
        }
      ],
      "source": [
        "df_grouped = df.select(\"EMPLOYMENT_TYPE_NAME\").distinct().show(10, truncate=False)"
      ]
    },
    {
      "cell_type": "code",
      "execution_count": 7,
      "metadata": {},
      "outputs": [
        {
          "name": "stderr",
          "output_type": "stream",
          "text": [
            "                                                                                \r"
          ]
        },
        {
          "name": "stdout",
          "output_type": "stream",
          "text": [
            "+------+--------+--------------------+--------------------+----------------+-------------+\n",
            "|SALARY|DURATION|MIN_YEARS_EXPERIENCE|EMPLOYMENT_TYPE_NAME|REMOTE_TYPE_NAME|IS_INTERNSHIP|\n",
            "+------+--------+--------------------+--------------------+----------------+-------------+\n",
            "|NULL  |6.0     |2                   |Full-Time           |On-site         |false        |\n",
            "|NULL  |18.0    |3                   |Full-Time           |Remote          |false        |\n",
            "|NULL  |35.0    |5                   |Full-Time           |On-site         |false        |\n",
            "|NULL  |48.0    |3                   |Full-Time           |On-site         |false        |\n",
            "|92500 |15.0    |NULL                |Flexible            |On-site         |false        |\n",
            "+------+--------+--------------------+--------------------+----------------+-------------+\n",
            "only showing top 5 rows\n"
          ]
        }
      ],
      "source": [
        "# Missing Value Treatment\n",
        "#| eval: true\n",
        "#| echo: false\n",
        "#| fig-align: center\n",
        "\n",
        "df_cleaned = df.select(\n",
        "    \"SALARY\", \"DURATION\", \"MIN_YEARS_EXPERIENCE\", \"EMPLOYMENT_TYPE_NAME\",\n",
        "    \"REMOTE_TYPE_NAME\", \"IS_INTERNSHIP\"\n",
        ")\n",
        "\n",
        "#Cleaning the Remote Type Column\n",
        "from pyspark.sql.functions import when, col\n",
        "df_cleaned = df_cleaned.withColumn(\n",
        "    \"REMOTE_TYPE_NAME\",\n",
        "    when(col(\"REMOTE_TYPE_NAME\") == \"Remote\", \"Remote\")\n",
        "    .when(col(\"REMOTE_TYPE_NAME\") == \"Hybrid Remote\", \"Hybrid\")\n",
        "    .when(col(\"REMOTE_TYPE_NAME\") == \"[None]\", \"On-site\")\n",
        "    .when(col(\"REMOTE_TYPE_NAME\").isNull(), \"On-site\")\n",
        "    .when(col(\"REMOTE_TYPE_NAME\") == \"Not Remote\", \"On-site\")\n",
        "    .otherwise(col(\"REMOTE_TYPE_NAME\"))\n",
        ")\n",
        "\n",
        "\n",
        "\n",
        "#Cleaning the Employment Type Column\n",
        "df_cleaned = df_cleaned.withColumn(\n",
        "    \"EMPLOYMENT_TYPE_NAME\",\n",
        "    when(col(\"EMPLOYMENT_TYPE_NAME\") == \"Part-time / full-time\", \"Flexible\")\n",
        "    .when(col(\"EMPLOYMENT_TYPE_NAME\").isNull(), \"Full-Time\")\n",
        "    .when(col(\"EMPLOYMENT_TYPE_NAME\") == \"Part-time (â‰¤ 32 hours)\", \"Part-Time\")\n",
        "    .when(col(\"EMPLOYMENT_TYPE_NAME\") == \"Full-time (> 32 hours)\", \"Full-Time\")\n",
        "    .otherwise(col(\"EMPLOYMENT_TYPE_NAME\")) \n",
        ")\n",
        "\n",
        "#Cleaning Duration (Adding Median to Nulls)\n",
        "median_duration = df_cleaned.approxQuantile(\"DURATION\", [0.5], 0.01)[0]\n",
        "df_cleaned = df_cleaned.withColumn(\n",
        "    \"DURATION\",\n",
        "    when(col(\"DURATION\").isNull(), median_duration).otherwise(col(\"DURATION\"))\n",
        ")\n",
        "df_cleaned.show(5, truncate=False)"
      ]
    },
    {
      "cell_type": "code",
      "execution_count": null,
      "metadata": {},
      "outputs": [],
      "source": []
    },
    {
      "cell_type": "code",
      "execution_count": 8,
      "metadata": {},
      "outputs": [
        {
          "name": "stdout",
          "output_type": "stream",
          "text": [
            "+------+--------------------+--------------------+----------------+--------+-------------+\n",
            "|SALARY|MIN_YEARS_EXPERIENCE|EMPLOYMENT_TYPE_NAME|REMOTE_TYPE_NAME|DURATION|IS_INTERNSHIP|\n",
            "+------+--------------------+--------------------+----------------+--------+-------------+\n",
            "|92962 |2                   |Full-Time           |On-site         |18.0    |0            |\n",
            "|107645|10                  |Full-Time           |On-site         |18.0    |0            |\n",
            "|192800|6                   |Full-Time           |On-site         |55.0    |0            |\n",
            "|125900|12                  |Full-Time           |On-site         |18.0    |0            |\n",
            "|170000|6                   |Full-Time           |On-site         |18.0    |0            |\n",
            "+------+--------------------+--------------------+----------------+--------+-------------+\n",
            "only showing top 5 rows\n"
          ]
        }
      ],
      "source": [
        "#| eval: true\n",
        "#| echo: false\n",
        "#| fig-align: center\n",
        "\n",
        "from pyspark.sql.functions import col, pow\n",
        "from pyspark.ml.feature import StringIndexer, OneHotEncoder, VectorAssembler\n",
        "from pyspark.ml import Pipeline\n",
        "from pyspark.sql.types import BooleanType, StringType, IntegerType\n",
        "\n",
        "# Data Cleaning\n",
        "\n",
        "regression_df = df_cleaned.dropna(subset=[\n",
        "    \"SALARY\", \"MIN_YEARS_EXPERIENCE\",\n",
        "    \"EMPLOYMENT_TYPE_NAME\", \"REMOTE_TYPE_NAME\", \"DURATION\", \"IS_INTERNSHIP\"\n",
        "]).select(\"SALARY\", \"MIN_YEARS_EXPERIENCE\",\n",
        "    \"EMPLOYMENT_TYPE_NAME\", \"REMOTE_TYPE_NAME\", \"DURATION\", \"IS_INTERNSHIP\")\n",
        "\n",
        "#Categorical Encoding\n",
        "categorical_columns = [\"EMPLOYMENT_TYPE_NAME\", \"REMOTE_TYPE_NAME\", \"IS_INTERNSHIP\"]\n",
        "\n",
        "#Convert Boolean to Integer\n",
        "regression_df = regression_df.withColumn(\"IS_INTERNSHIP\", col(\"IS_INTERNSHIP\").cast(IntegerType()))\n",
        "\n",
        "regression_df.show(5, truncate=False)\n"
      ]
    },
    {
      "cell_type": "code",
      "execution_count": 61,
      "metadata": {},
      "outputs": [
        {
          "name": "stderr",
          "output_type": "stream",
          "text": [
            "                                                                                \r"
          ]
        },
        {
          "name": "stdout",
          "output_type": "stream",
          "text": [
            "+------+-----------------------------------+-----------------------------------------+\n",
            "|SALARY|features                           |poly_features                            |\n",
            "+------+-----------------------------------+-----------------------------------------+\n",
            "|92962 |[2.0,18.0,0.0,1.0,0.0,1.0,0.0,1.0] |[2.0,4.0,18.0,0.0,1.0,0.0,1.0,0.0,1.0]   |\n",
            "|107645|[10.0,18.0,0.0,1.0,0.0,1.0,0.0,1.0]|[10.0,100.0,18.0,0.0,1.0,0.0,1.0,0.0,1.0]|\n",
            "|192800|[6.0,55.0,0.0,1.0,0.0,1.0,0.0,1.0] |[6.0,36.0,55.0,0.0,1.0,0.0,1.0,0.0,1.0]  |\n",
            "|125900|[12.0,18.0,0.0,1.0,0.0,1.0,0.0,1.0]|[12.0,144.0,18.0,0.0,1.0,0.0,1.0,0.0,1.0]|\n",
            "|170000|[6.0,18.0,0.0,1.0,0.0,1.0,0.0,1.0] |[6.0,36.0,18.0,0.0,1.0,0.0,1.0,0.0,1.0]  |\n",
            "+------+-----------------------------------+-----------------------------------------+\n",
            "only showing top 5 rows\n"
          ]
        }
      ],
      "source": [
        "\n",
        "\n",
        "#Indexing and One-Hot Encoding\n",
        "\n",
        "indexers = [StringIndexer(inputCol=col, outputCol=f\"{col}_idx\", handleInvalid='skip') for col in categorical_columns]\n",
        "encoders = [OneHotEncoder(inputCol=f\"{col}_idx\", outputCol=f\"{col}_vec\") for col in categorical_columns]\n",
        "\n",
        "#Assemble Features (For Linear Regression and Random Forest)\n",
        "assembler = VectorAssembler(\n",
        "    inputCols=[\n",
        "        \"MIN_YEARS_EXPERIENCE\", \"DURATION\",\n",
        "        \"IS_INTERNSHIP\"\n",
        "        ] + [f\"{col}_vec\" for col in categorical_columns],\n",
        "    outputCol=\"features\"\n",
        ")\n",
        "\n",
        "pipeline = Pipeline(stages=indexers + encoders + [assembler])\n",
        "regression_data = pipeline.fit(regression_df).transform(regression_df)\n",
        "\n",
        "#Squared Min Years Experience Column\n",
        "\n",
        "regression_data = regression_data.withColumn(\"MIN_YEARS_EXPERIENCE_SQ\", pow(col(\"MIN_YEARS_EXPERIENCE\"), 2))\n",
        "\n",
        "#Assemble Features (For Polynomial Regression)\n",
        "\n",
        "assembler_poly = VectorAssembler(\n",
        "    inputCols=[\n",
        "        \"MIN_YEARS_EXPERIENCE\", \"MIN_YEARS_EXPERIENCE_SQ\", \"DURATION\",\n",
        "        \"IS_INTERNSHIP\"\n",
        "    ] + [f\"{col}_vec\" for col in categorical_columns],\n",
        "    outputCol=\"poly_features\"\n",
        ")\n",
        "regression_data = assembler_poly.transform(regression_data)\n",
        "\n",
        "regression_data.select(\"SALARY\", \"features\", \"poly_features\").show(5, truncate=False)\n",
        "\n",
        "\n",
        "\n"
      ]
    },
    {
      "cell_type": "code",
      "execution_count": 62,
      "metadata": {},
      "outputs": [],
      "source": [
        "#| eval: true\n",
        "#| echo: false\n",
        "#| fig-align: center\n",
        "\n",
        "#Creating Train and Test Sets\n",
        "regression_train_data, regression_test_data = regression_data.randomSplit([0.8, 0.2], seed=42)\n",
        "#print((regression_data.count(), len(regression_data.columns)))\n",
        "#print((regression_train_data.count(), len(regression_train_data.columns)))\n",
        "#print((regression_test_data.count(), len(regression_test_data.columns)))\n"
      ]
    },
    {
      "cell_type": "code",
      "execution_count": 65,
      "metadata": {},
      "outputs": [
        {
          "name": "stderr",
          "output_type": "stream",
          "text": [
            "                                                                                \r"
          ]
        }
      ],
      "source": [
        "#Generalized Linear Regression\n",
        "\n",
        "from pyspark.ml.regression import GeneralizedLinearRegression\n",
        "\n",
        "feature_names = assembler.getInputCols()\n",
        "\n",
        "glr = GeneralizedLinearRegression(\n",
        "    featuresCol=\"features\",\n",
        "    labelCol=\"SALARY\",\n",
        "    family=\"gaussian\",\n",
        "    link=\"identity\",\n",
        "    maxIter=10,\n",
        "    regParam=0.3\n",
        ")\n",
        "\n",
        "glr_model = glr.fit(regression_train_data)\n",
        "summary = glr_model.summary"
      ]
    },
    {
      "cell_type": "code",
      "execution_count": 67,
      "metadata": {},
      "outputs": [
        {
          "name": "stderr",
          "output_type": "stream",
          "text": [
            "[Stage 339:>                                                        (0 + 1) / 1]\r"
          ]
        },
        {
          "name": "stdout",
          "output_type": "stream",
          "text": [
            "Intercept: 93601.3920\n",
            "Coefficients:\n",
            " MIN_YEARS_EXPERIENCE: 6634.9052\n",
            " DURATION: -92.9847\n",
            " IS_INTERNSHIP: -249.3155\n",
            " EMPLOYMENT_TYPE_NAME_0: 1197.4797\n",
            " EMPLOYMENT_TYPE_NAME_1: -5523.5492\n",
            " EMPLOYMENT_TYPE_NAME_2: -8522.4530\n",
            " REMOTE_TYPE_NAME_0: -5444.3124\n",
            " REMOTE_TYPE_NAME_1: 249.3158\n"
          ]
        },
        {
          "name": "stderr",
          "output_type": "stream",
          "text": [
            "                                                                                \r"
          ]
        }
      ],
      "source": [
        "#Coefficients and Intercept\n",
        "# (Used AI to match Coefficient names instead of Feature 1, Feature 2, etc.)\n",
        "\n",
        "from pyspark.sql import DataFrame\n",
        "\n",
        "cat_sizes = [regression_df.select(col).distinct().count() for col in categorical_columns]\n",
        "expanded_feature_names = [\"MIN_YEARS_EXPERIENCE\", \"DURATION\", \"IS_INTERNSHIP\"]\n",
        "for col, size in zip(categorical_columns, cat_sizes):\n",
        "    expanded_feature_names += [f\"{col}_{i}\" for i in range(size)]\n",
        "\n",
        "\n",
        "\n",
        "print(\"Intercept: {:.4f}\".format(glr_model.intercept))\n",
        "print(\"Coefficients:\")\n",
        "for i, coef in enumerate(glr_model.coefficients):\n",
        "    print(f\" {expanded_feature_names[i]}: {coef:.4f}\")"
      ]
    },
    {
      "cell_type": "code",
      "execution_count": 68,
      "metadata": {},
      "outputs": [
        {
          "name": "stdout",
          "output_type": "stream",
          "text": [
            "\n",
            "---Regression Model Summary---\n"
          ]
        },
        {
          "name": "stderr",
          "output_type": "stream",
          "text": [
            "[Stage 345:>                                                        (0 + 1) / 1]\r"
          ]
        },
        {
          "name": "stdout",
          "output_type": "stream",
          "text": [
            "Coefficient Standard Errors: ['81.4106', '23.5643', '1381781.9942', '2058.8730', '2616.5750', '1566.2595', '1637.0408', '1381781.9942', '1381784.4002']\n",
            "T Values: ['81.4993', '-3.9460', '-0.0002', '0.5816', '-2.1110', '-5.4413', '-3.3257', '0.0002', '0.0677']\n",
            "P Values: ['0.0000', '0.0001', '0.9999', '0.5608', '0.0348', '0.0000', '0.0009', '0.9999', '0.9460']\n"
          ]
        },
        {
          "name": "stderr",
          "output_type": "stream",
          "text": [
            "                                                                                \r"
          ]
        }
      ],
      "source": [
        "#Summary Statistics\n",
        "print(\"\\n---Regression Model Summary---\")\n",
        "print(\"Coefficient Standard Errors:\", [f\"{val:.4f}\" for val in summary.coefficientStandardErrors])\n",
        "print(\"T Values:\", [f\"{val:.4f}\" for val in summary.tValues])\n",
        "print(\"P Values:\", [f\"{val:.4f}\" for val in summary.pValues])"
      ]
    },
    {
      "cell_type": "code",
      "execution_count": 69,
      "metadata": {},
      "outputs": [
        {
          "name": "stderr",
          "output_type": "stream",
          "text": [
            "[Stage 348:>                                                        (0 + 1) / 1]\r"
          ]
        },
        {
          "name": "stdout",
          "output_type": "stream",
          "text": [
            "Null Deviance: 35794690345776.1094\n",
            "Residual DF Null: 18965\n",
            "Deviance: 26420287047212.9453\n",
            "Residual DF: 18957\n"
          ]
        },
        {
          "name": "stderr",
          "output_type": "stream",
          "text": [
            "[Stage 349:>                                                        (0 + 1) / 1]\r"
          ]
        },
        {
          "name": "stdout",
          "output_type": "stream",
          "text": [
            "AIC: 453167.5668\n"
          ]
        },
        {
          "name": "stderr",
          "output_type": "stream",
          "text": [
            "                                                                                \r"
          ]
        }
      ],
      "source": [
        "print(f\"Null Deviance: {summary.nullDeviance:.4f}\")\n",
        "print(f\"Residual DF Null: {summary.residualDegreeOfFreedomNull}\")\n",
        "print(f\"Deviance: {summary.deviance:.4f}\")\n",
        "print(f\"Residual DF: {summary.residualDegreeOfFreedom}\")\n",
        "print(f\"AIC: {summary.aic:.4f}\")\n",
        "\n"
      ]
    },
    {
      "cell_type": "code",
      "execution_count": null,
      "metadata": {},
      "outputs": [],
      "source": [
        "import pandas as pd\n",
        "from tabulate import tabulate\n",
        "import pandas as pd\n",
        "from IPython.display import display, HTML\n",
        "\n"
      ]
    }
  ],
  "metadata": {
    "kernelspec": {
      "display_name": ".venv",
      "language": "python",
      "name": "python3"
    },
    "language_info": {
      "codemirror_mode": {
        "name": "ipython",
        "version": 3
      },
      "file_extension": ".py",
      "mimetype": "text/x-python",
      "name": "python",
      "nbconvert_exporter": "python",
      "pygments_lexer": "ipython3",
      "version": "3.12.3"
    }
  },
  "nbformat": 4,
  "nbformat_minor": 4
}
