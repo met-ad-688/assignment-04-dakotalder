{
  "cells": [
    {
      "cell_type": "markdown",
      "metadata": {},
      "source": [
        "---\n",
        "title: Assignment 04\n",
        "author:\n",
        "  - name: Dakota Alder\n",
        "    affiliations:\n",
        "      - id: bu\n",
        "        name: Boston University\n",
        "        city: Boston\n",
        "        state: MA\n",
        "number-sections: true\n",
        "date: '2025-10-05'\n",
        "date-modified: today\n",
        "date-format: long\n",
        "format:\n",
        "  html:\n",
        "    theme: cerulean\n",
        "    toc: true\n",
        "    toc-depth: 2\n",
        "\n",
        "execute:\n",
        "  echo: false\n",
        "  eval: false\n",
        "  freeze: auto\n",
        "---"
      ]
    },
    {
      "cell_type": "code",
      "execution_count": 1,
      "metadata": {},
      "outputs": [
        {
          "name": "stderr",
          "output_type": "stream",
          "text": [
            "WARNING: Using incubator modules: jdk.incubator.vector\n",
            "Using Spark's default log4j profile: org/apache/spark/log4j2-defaults.properties\n",
            "Setting default log level to \"WARN\".\n",
            "To adjust logging level use sc.setLogLevel(newLevel). For SparkR, use setLogLevel(newLevel).\n",
            "25/10/08 10:18:43 WARN NativeCodeLoader: Unable to load native-hadoop library for your platform... using builtin-java classes where applicable\n",
            "                                                                                \r"
          ]
        }
      ],
      "source": [
        "from pyspark.sql import SparkSession\n",
        "import pandas as pd\n",
        "import plotly.express as px\n",
        "import plotly.io as pio\n",
        "import numpy as np\n",
        "\n",
        "np.random.seed(42)\n",
        "\n",
        "pio.renderers.default = \"notebook+notebook_connected+vscode\"\n",
        "\n",
        "# Initialize Spark Session\n",
        "spark = SparkSession.builder.appName(\"LightcastData\").getOrCreate()\n",
        "\n",
        "# Load Data\n",
        "df = spark.read.option(\"header\", \"true\").option(\"inferSchema\", \"true\").option(\"multiLine\",\"true\").option(\"escape\", \"\\\"\").csv(\"data/lightcast_job_postings.csv\")"
      ]
    },
    {
      "cell_type": "code",
      "execution_count": 2,
      "metadata": {},
      "outputs": [
        {
          "name": "stderr",
          "output_type": "stream",
          "text": [
            "[Stage 2:>                                                          (0 + 1) / 1]\r"
          ]
        },
        {
          "name": "stdout",
          "output_type": "stream",
          "text": [
            "+------------------------+\n",
            "|EMPLOYMENT_TYPE_NAME    |\n",
            "+------------------------+\n",
            "|Part-time / full-time   |\n",
            "|Part-time (â‰¤ 32 hours)|\n",
            "|Full-time (> 32 hours)  |\n",
            "|NULL                    |\n",
            "+------------------------+\n",
            "\n"
          ]
        },
        {
          "name": "stderr",
          "output_type": "stream",
          "text": [
            "                                                                                \r"
          ]
        }
      ],
      "source": [
        "df_grouped = df.select(\"EMPLOYMENT_TYPE_NAME\").distinct().show(10, truncate=False)"
      ]
    },
    {
      "cell_type": "code",
      "execution_count": 3,
      "metadata": {},
      "outputs": [
        {
          "name": "stderr",
          "output_type": "stream",
          "text": [
            "                                                                                \r"
          ]
        },
        {
          "name": "stdout",
          "output_type": "stream",
          "text": [
            "+------+--------+--------------------+--------------------+----------------+-------------+\n",
            "|SALARY|DURATION|MIN_YEARS_EXPERIENCE|EMPLOYMENT_TYPE_NAME|REMOTE_TYPE_NAME|IS_INTERNSHIP|\n",
            "+------+--------+--------------------+--------------------+----------------+-------------+\n",
            "|NULL  |6.0     |2                   |Full-Time           |On-site         |false        |\n",
            "|NULL  |18.0    |3                   |Full-Time           |Remote          |false        |\n",
            "|NULL  |35.0    |5                   |Full-Time           |On-site         |false        |\n",
            "|NULL  |48.0    |3                   |Full-Time           |On-site         |false        |\n",
            "|92500 |15.0    |NULL                |Flexible            |On-site         |false        |\n",
            "+------+--------+--------------------+--------------------+----------------+-------------+\n",
            "only showing top 5 rows\n"
          ]
        }
      ],
      "source": [
        "# Missing Value Treatment\n",
        "#| eval: true\n",
        "#| echo: false\n",
        "#| fig-align: center\n",
        "\n",
        "df_cleaned = df.select(\n",
        "    \"SALARY\", \"DURATION\", \"MIN_YEARS_EXPERIENCE\", \"EMPLOYMENT_TYPE_NAME\",\n",
        "    \"REMOTE_TYPE_NAME\", \"IS_INTERNSHIP\"\n",
        ")\n",
        "\n",
        "#Cleaning the Remote Type Column\n",
        "from pyspark.sql.functions import when, col\n",
        "df_cleaned = df_cleaned.withColumn(\n",
        "    \"REMOTE_TYPE_NAME\",\n",
        "    when(col(\"REMOTE_TYPE_NAME\") == \"Remote\", \"Remote\")\n",
        "    .when(col(\"REMOTE_TYPE_NAME\") == \"Hybrid Remote\", \"Hybrid\")\n",
        "    .when(col(\"REMOTE_TYPE_NAME\") == \"[None]\", \"On-site\")\n",
        "    .when(col(\"REMOTE_TYPE_NAME\").isNull(), \"On-site\")\n",
        "    .when(col(\"REMOTE_TYPE_NAME\") == \"Not Remote\", \"On-site\")\n",
        "    .otherwise(col(\"REMOTE_TYPE_NAME\"))\n",
        ")\n",
        "\n",
        "\n",
        "\n",
        "#Cleaning the Employment Type Column\n",
        "df_cleaned = df_cleaned.withColumn(\n",
        "    \"EMPLOYMENT_TYPE_NAME\",\n",
        "    when(col(\"EMPLOYMENT_TYPE_NAME\") == \"Part-time / full-time\", \"Flexible\")\n",
        "    .when(col(\"EMPLOYMENT_TYPE_NAME\").isNull(), \"Full-Time\")\n",
        "    .when(col(\"EMPLOYMENT_TYPE_NAME\") == \"Part-time (â‰¤ 32 hours)\", \"Part-Time\")\n",
        "    .when(col(\"EMPLOYMENT_TYPE_NAME\") == \"Full-time (> 32 hours)\", \"Full-Time\")\n",
        "    .otherwise(col(\"EMPLOYMENT_TYPE_NAME\")) \n",
        ")\n",
        "\n",
        "#Cleaning Duration (Adding Median to Nulls)\n",
        "median_duration = df_cleaned.approxQuantile(\"DURATION\", [0.5], 0.01)[0]\n",
        "df_cleaned = df_cleaned.withColumn(\n",
        "    \"DURATION\",\n",
        "    when(col(\"DURATION\").isNull(), median_duration).otherwise(col(\"DURATION\"))\n",
        ")\n",
        "df_cleaned.show(5, truncate=False)"
      ]
    },
    {
      "cell_type": "code",
      "execution_count": null,
      "metadata": {},
      "outputs": [],
      "source": []
    },
    {
      "cell_type": "code",
      "execution_count": 4,
      "metadata": {},
      "outputs": [
        {
          "name": "stdout",
          "output_type": "stream",
          "text": [
            "+------+--------------------+--------------------+----------------+--------+-------------+\n",
            "|SALARY|MIN_YEARS_EXPERIENCE|EMPLOYMENT_TYPE_NAME|REMOTE_TYPE_NAME|DURATION|IS_INTERNSHIP|\n",
            "+------+--------------------+--------------------+----------------+--------+-------------+\n",
            "|92962 |2                   |Full-Time           |On-site         |18.0    |0            |\n",
            "|107645|10                  |Full-Time           |On-site         |18.0    |0            |\n",
            "|192800|6                   |Full-Time           |On-site         |55.0    |0            |\n",
            "|125900|12                  |Full-Time           |On-site         |18.0    |0            |\n",
            "|170000|6                   |Full-Time           |On-site         |18.0    |0            |\n",
            "+------+--------------------+--------------------+----------------+--------+-------------+\n",
            "only showing top 5 rows\n"
          ]
        }
      ],
      "source": [
        "#| eval: true\n",
        "#| echo: false\n",
        "#| fig-align: center\n",
        "\n",
        "from pyspark.sql.functions import col, pow\n",
        "from pyspark.ml.feature import StringIndexer, OneHotEncoder, VectorAssembler\n",
        "from pyspark.ml import Pipeline\n",
        "from pyspark.sql.types import BooleanType, StringType, IntegerType\n",
        "\n",
        "# Data Cleaning\n",
        "\n",
        "regression_df = df_cleaned.dropna(subset=[\n",
        "    \"SALARY\", \"MIN_YEARS_EXPERIENCE\",\n",
        "    \"EMPLOYMENT_TYPE_NAME\", \"REMOTE_TYPE_NAME\", \"DURATION\", \"IS_INTERNSHIP\"\n",
        "]).select(\"SALARY\", \"MIN_YEARS_EXPERIENCE\",\n",
        "    \"EMPLOYMENT_TYPE_NAME\", \"REMOTE_TYPE_NAME\", \"DURATION\", \"IS_INTERNSHIP\")\n",
        "\n",
        "#Categorical Encoding\n",
        "categorical_columns = [\"EMPLOYMENT_TYPE_NAME\", \"REMOTE_TYPE_NAME\", \"IS_INTERNSHIP\"]\n",
        "\n",
        "#Convert Boolean to Integer\n",
        "regression_df = regression_df.withColumn(\"IS_INTERNSHIP\", col(\"IS_INTERNSHIP\").cast(IntegerType()))\n",
        "\n",
        "regression_df.show(5, truncate=False)\n"
      ]
    },
    {
      "cell_type": "code",
      "execution_count": 5,
      "metadata": {},
      "outputs": [
        {
          "name": "stderr",
          "output_type": "stream",
          "text": [
            "                                                                                \r"
          ]
        },
        {
          "name": "stdout",
          "output_type": "stream",
          "text": [
            "+------+-----------------------------------+-----------------------------------------+\n",
            "|SALARY|features                           |poly_features                            |\n",
            "+------+-----------------------------------+-----------------------------------------+\n",
            "|92962 |[2.0,18.0,0.0,1.0,0.0,1.0,0.0,1.0] |[2.0,4.0,18.0,0.0,1.0,0.0,1.0,0.0,1.0]   |\n",
            "|107645|[10.0,18.0,0.0,1.0,0.0,1.0,0.0,1.0]|[10.0,100.0,18.0,0.0,1.0,0.0,1.0,0.0,1.0]|\n",
            "|192800|[6.0,55.0,0.0,1.0,0.0,1.0,0.0,1.0] |[6.0,36.0,55.0,0.0,1.0,0.0,1.0,0.0,1.0]  |\n",
            "|125900|[12.0,18.0,0.0,1.0,0.0,1.0,0.0,1.0]|[12.0,144.0,18.0,0.0,1.0,0.0,1.0,0.0,1.0]|\n",
            "|170000|[6.0,18.0,0.0,1.0,0.0,1.0,0.0,1.0] |[6.0,36.0,18.0,0.0,1.0,0.0,1.0,0.0,1.0]  |\n",
            "+------+-----------------------------------+-----------------------------------------+\n",
            "only showing top 5 rows\n"
          ]
        }
      ],
      "source": [
        "\n",
        "\n",
        "#Indexing and One-Hot Encoding\n",
        "\n",
        "indexers = [StringIndexer(inputCol=col, outputCol=f\"{col}_idx\", handleInvalid='skip') for col in categorical_columns]\n",
        "encoders = [OneHotEncoder(inputCol=f\"{col}_idx\", outputCol=f\"{col}_vec\") for col in categorical_columns]\n",
        "\n",
        "#Assemble Features (For Linear Regression and Random Forest)\n",
        "assembler = VectorAssembler(\n",
        "    inputCols=[\n",
        "        \"MIN_YEARS_EXPERIENCE\", \"DURATION\",\n",
        "        \"IS_INTERNSHIP\"\n",
        "        ] + [f\"{col}_vec\" for col in categorical_columns],\n",
        "    outputCol=\"features\"\n",
        ")\n",
        "\n",
        "pipeline = Pipeline(stages=indexers + encoders + [assembler])\n",
        "regression_data = pipeline.fit(regression_df).transform(regression_df)\n",
        "\n",
        "#Squared Min Years Experience Column\n",
        "\n",
        "regression_data = regression_data.withColumn(\"MIN_YEARS_EXPERIENCE_SQ\", pow(col(\"MIN_YEARS_EXPERIENCE\"), 2))\n",
        "\n",
        "#Assemble Features (For Polynomial Regression)\n",
        "\n",
        "assembler_poly = VectorAssembler(\n",
        "    inputCols=[\n",
        "        \"MIN_YEARS_EXPERIENCE\", \"MIN_YEARS_EXPERIENCE_SQ\", \"DURATION\",\n",
        "        \"IS_INTERNSHIP\"\n",
        "    ] + [f\"{col}_vec\" for col in categorical_columns],\n",
        "    outputCol=\"poly_features\"\n",
        ")\n",
        "regression_data = assembler_poly.transform(regression_data)\n",
        "\n",
        "regression_data.select(\"SALARY\", \"features\", \"poly_features\").show(5, truncate=False)\n",
        "\n",
        "\n",
        "\n"
      ]
    },
    {
      "cell_type": "code",
      "execution_count": 6,
      "metadata": {},
      "outputs": [],
      "source": [
        "#| eval: true\n",
        "#| echo: false\n",
        "#| fig-align: center\n",
        "\n",
        "#Creating Train and Test Sets\n",
        "regression_train_data, regression_test_data = regression_data.randomSplit([0.8, 0.2], seed=42)\n",
        "#print((regression_data.count(), len(regression_data.columns)))\n",
        "#print((regression_train_data.count(), len(regression_train_data.columns)))\n",
        "#print((regression_test_data.count(), len(regression_test_data.columns)))\n"
      ]
    },
    {
      "cell_type": "code",
      "execution_count": 7,
      "metadata": {},
      "outputs": [
        {
          "name": "stderr",
          "output_type": "stream",
          "text": [
            "25/10/08 10:19:37 WARN SparkStringUtils: Truncated the string representation of a plan since it was too large. This behavior can be adjusted by setting 'spark.sql.debug.maxToStringFields'.\n",
            "                                                                                \r"
          ]
        }
      ],
      "source": [
        "#Generalized Linear Regression\n",
        "\n",
        "from pyspark.ml.regression import GeneralizedLinearRegression\n",
        "\n",
        "feature_names = assembler.getInputCols()\n",
        "\n",
        "glr = GeneralizedLinearRegression(\n",
        "    featuresCol=\"features\",\n",
        "    labelCol=\"SALARY\",\n",
        "    family=\"gaussian\",\n",
        "    link=\"identity\",\n",
        "    maxIter=10,\n",
        "    regParam=0.3\n",
        ")\n",
        "\n",
        "glr_model = glr.fit(regression_train_data)\n",
        "summary = glr_model.summary"
      ]
    },
    {
      "cell_type": "code",
      "execution_count": 8,
      "metadata": {},
      "outputs": [
        {
          "name": "stderr",
          "output_type": "stream",
          "text": [
            "[Stage 40:>                                                         (0 + 1) / 1]\r"
          ]
        },
        {
          "name": "stdout",
          "output_type": "stream",
          "text": [
            "Intercept: 93601.3920\n",
            "Coefficients:\n",
            " MIN_YEARS_EXPERIENCE: 6634.9052\n",
            " DURATION: -92.9847\n",
            " IS_INTERNSHIP: -249.3155\n",
            " EMPLOYMENT_TYPE_NAME_0: 1197.4797\n",
            " EMPLOYMENT_TYPE_NAME_1: -5523.5492\n",
            " EMPLOYMENT_TYPE_NAME_2: -8522.4530\n",
            " REMOTE_TYPE_NAME_0: -5444.3124\n",
            " REMOTE_TYPE_NAME_1: 249.3158\n"
          ]
        },
        {
          "name": "stderr",
          "output_type": "stream",
          "text": [
            "                                                                                \r"
          ]
        }
      ],
      "source": [
        "#Coefficients and Intercept\n",
        "# (Used AI to match Coefficient names instead of Feature 1, Feature 2, etc.)\n",
        "\n",
        "from pyspark.sql import DataFrame\n",
        "\n",
        "cat_sizes = [regression_df.select(col).distinct().count() for col in categorical_columns]\n",
        "expanded_feature_names = [\"MIN_YEARS_EXPERIENCE\", \"DURATION\", \"IS_INTERNSHIP\"]\n",
        "for col, size in zip(categorical_columns, cat_sizes):\n",
        "    expanded_feature_names += [f\"{col}_{i}\" for i in range(size)]\n",
        "\n",
        "\n",
        "\n",
        "print(\"Intercept: {:.4f}\".format(glr_model.intercept))\n",
        "print(\"Coefficients:\")\n",
        "for i, coef in enumerate(glr_model.coefficients):\n",
        "    print(f\" {expanded_feature_names[i]}: {coef:.4f}\")"
      ]
    },
    {
      "cell_type": "code",
      "execution_count": 9,
      "metadata": {},
      "outputs": [
        {
          "name": "stdout",
          "output_type": "stream",
          "text": [
            "\n",
            "---Regression Model Summary---\n"
          ]
        },
        {
          "name": "stderr",
          "output_type": "stream",
          "text": [
            "[Stage 46:>                                                         (0 + 1) / 1]\r"
          ]
        },
        {
          "name": "stdout",
          "output_type": "stream",
          "text": [
            "Coefficient Standard Errors: ['81.4106', '23.5643', '1381781.9942', '2058.8730', '2616.5750', '1566.2595', '1637.0408', '1381781.9942', '1381784.4002']\n",
            "T Values: ['81.4993', '-3.9460', '-0.0002', '0.5816', '-2.1110', '-5.4413', '-3.3257', '0.0002', '0.0677']\n",
            "P Values: ['0.0000', '0.0001', '0.9999', '0.5608', '0.0348', '0.0000', '0.0009', '0.9999', '0.9460']\n"
          ]
        },
        {
          "name": "stderr",
          "output_type": "stream",
          "text": [
            "                                                                                \r"
          ]
        }
      ],
      "source": [
        "#Summary Statistics\n",
        "print(\"\\n---Regression Model Summary---\")\n",
        "print(\"Coefficient Standard Errors:\", [f\"{val:.4f}\" for val in summary.coefficientStandardErrors])\n",
        "print(\"T Values:\", [f\"{val:.4f}\" for val in summary.tValues])\n",
        "print(\"P Values:\", [f\"{val:.4f}\" for val in summary.pValues])"
      ]
    },
    {
      "cell_type": "code",
      "execution_count": 10,
      "metadata": {},
      "outputs": [
        {
          "name": "stderr",
          "output_type": "stream",
          "text": [
            "                                                                                \r"
          ]
        },
        {
          "name": "stdout",
          "output_type": "stream",
          "text": [
            "Null Deviance: 35794690345776.1094\n",
            "Residual DF Null: 18965\n",
            "Deviance: 26420287047212.9453\n",
            "Residual DF: 18957\n"
          ]
        },
        {
          "name": "stderr",
          "output_type": "stream",
          "text": [
            "[Stage 50:>                                                         (0 + 1) / 1]\r"
          ]
        },
        {
          "name": "stdout",
          "output_type": "stream",
          "text": [
            "AIC: 453167.5668\n"
          ]
        },
        {
          "name": "stderr",
          "output_type": "stream",
          "text": [
            "                                                                                \r"
          ]
        }
      ],
      "source": [
        "print(f\"Null Deviance: {summary.nullDeviance:.4f}\")\n",
        "print(f\"Residual DF Null: {summary.residualDegreeOfFreedomNull}\")\n",
        "print(f\"Deviance: {summary.deviance:.4f}\")\n",
        "print(f\"Residual DF: {summary.residualDegreeOfFreedom}\")\n",
        "print(f\"AIC: {summary.aic:.4f}\")\n",
        "\n"
      ]
    },
    {
      "cell_type": "code",
      "execution_count": 19,
      "metadata": {},
      "outputs": [
        {
          "name": "stdout",
          "output_type": "stream",
          "text": [
            "Length of feature names: 9\n",
            "Length of coefficients: 9\n",
            "Length of standard errors: 9\n",
            "Length of t-values: 9\n",
            "Length of p-values: 9\n"
          ]
        }
      ],
      "source": [
        "feature_new = summary._call_java(\"featureNames\")\n",
        "\n",
        "features = [\"Intercept\"] + feature_new\n",
        "coefs = [glr_model.intercept] + list(glr_model.coefficients)\n",
        "se = list(summary.coefficientStandardErrors)\n",
        "tvals = list(summary.tValues)\n",
        "pvals = list(summary.pValues)   \n",
        "\n",
        "print(\"Length of feature names:\", len(features))\n",
        "print(\"Length of coefficients:\", len(coefs))\n",
        "print(\"Length of standard errors:\", len(se))\n",
        "print(\"Length of t-values:\", len(tvals))\n",
        "print(\"Length of p-values:\", len(pvals))    "
      ]
    },
    {
      "cell_type": "code",
      "execution_count": null,
      "metadata": {},
      "outputs": [
        {
          "data": {
            "text/html": [
              "<table border=\"1\" class=\"dataframe\">\n",
              "  <thead>\n",
              "    <tr style=\"text-align: right;\">\n",
              "      <th></th>\n",
              "      <th>Feature</th>\n",
              "      <th>Estimate</th>\n",
              "      <th>Std Error</th>\n",
              "      <th>t-stat</th>\n",
              "      <th>P-Value</th>\n",
              "    </tr>\n",
              "  </thead>\n",
              "  <tbody>\n",
              "    <tr>\n",
              "      <th>0</th>\n",
              "      <td>Intercept</td>\n",
              "      <td>93601.3920</td>\n",
              "      <td>81.4106</td>\n",
              "      <td>81.4993</td>\n",
              "      <td>0.0000</td>\n",
              "    </tr>\n",
              "    <tr>\n",
              "      <th>1</th>\n",
              "      <td>MIN_YEARS_EXPERIENCE</td>\n",
              "      <td>6634.9052</td>\n",
              "      <td>23.5643</td>\n",
              "      <td>-3.9460</td>\n",
              "      <td>0.0001</td>\n",
              "    </tr>\n",
              "    <tr>\n",
              "      <th>2</th>\n",
              "      <td>DURATION</td>\n",
              "      <td>-92.9847</td>\n",
              "      <td>1381781.9942</td>\n",
              "      <td>-0.0002</td>\n",
              "      <td>0.9999</td>\n",
              "    </tr>\n",
              "    <tr>\n",
              "      <th>3</th>\n",
              "      <td>IS_INTERNSHIP</td>\n",
              "      <td>-249.3155</td>\n",
              "      <td>2058.8730</td>\n",
              "      <td>0.5816</td>\n",
              "      <td>0.5608</td>\n",
              "    </tr>\n",
              "    <tr>\n",
              "      <th>4</th>\n",
              "      <td>EMPLOYMENT_TYPE_NAME_vec_Full-Time</td>\n",
              "      <td>1197.4797</td>\n",
              "      <td>2616.5750</td>\n",
              "      <td>-2.1110</td>\n",
              "      <td>0.0348</td>\n",
              "    </tr>\n",
              "    <tr>\n",
              "      <th>5</th>\n",
              "      <td>EMPLOYMENT_TYPE_NAME_vec_Part-Time</td>\n",
              "      <td>-5523.5492</td>\n",
              "      <td>1566.2595</td>\n",
              "      <td>-5.4413</td>\n",
              "      <td>0.0000</td>\n",
              "    </tr>\n",
              "    <tr>\n",
              "      <th>6</th>\n",
              "      <td>REMOTE_TYPE_NAME_vec_On-site</td>\n",
              "      <td>-8522.4530</td>\n",
              "      <td>1637.0408</td>\n",
              "      <td>-3.3257</td>\n",
              "      <td>0.0009</td>\n",
              "    </tr>\n",
              "    <tr>\n",
              "      <th>7</th>\n",
              "      <td>REMOTE_TYPE_NAME_vec_Remote</td>\n",
              "      <td>-5444.3124</td>\n",
              "      <td>1381781.9942</td>\n",
              "      <td>0.0002</td>\n",
              "      <td>0.9999</td>\n",
              "    </tr>\n",
              "    <tr>\n",
              "      <th>8</th>\n",
              "      <td>IS_INTERNSHIP_vec_0</td>\n",
              "      <td>249.3158</td>\n",
              "      <td>1381784.4002</td>\n",
              "      <td>0.0677</td>\n",
              "      <td>0.9460</td>\n",
              "    </tr>\n",
              "  </tbody>\n",
              "</table>"
            ],
            "text/plain": [
              "<IPython.core.display.HTML object>"
            ]
          },
          "execution_count": 20,
          "metadata": {},
          "output_type": "execute_result"
        }
      ],
      "source": [
        "import pandas as pd\n",
        "from tabulate import tabulate\n",
        "import pandas as pd\n",
        "from IPython.display import display, HTML\n",
        "\n",
        "coef_table = pd.DataFrame({\n",
        "     \"Feature\": features,\n",
        "    \"Estimate\": [f\"{v:.4f}\" if v is not None else None for v in coefs],\n",
        "    \"Std Error\": [f\"{v:.4f}\" if v is not None else None for v in se],\n",
        "    \"t-stat\": [f\"{v:.4f}\" if v is not None else None for v in tvals],\n",
        "    \"p-Value\": [f\"{v:.4f}\" if v is not None else None for v in pvals]\n",
        "})\n",
        "\n",
        "coef_table.to_csv(\"output/glr_summary.csv\", index=False)\n",
        "\n",
        "HTML(coef_table.to_html())"
      ]
    },
    {
      "cell_type": "code",
      "execution_count": 31,
      "metadata": {},
      "outputs": [
        {
          "name": "stdout",
          "output_type": "stream",
          "text": [
            "+------+-----------------------------------------+\n",
            "|SALARY|new_poly_features                        |\n",
            "+------+-----------------------------------------+\n",
            "|92962 |[2.0,4.0,18.0,0.0,1.0,0.0,1.0,0.0,1.0]   |\n",
            "|107645|[10.0,100.0,18.0,0.0,1.0,0.0,1.0,0.0,1.0]|\n",
            "|192800|[6.0,36.0,55.0,0.0,1.0,0.0,1.0,0.0,1.0]  |\n",
            "|125900|[12.0,144.0,18.0,0.0,1.0,0.0,1.0,0.0,1.0]|\n",
            "|170000|[6.0,36.0,18.0,0.0,1.0,0.0,1.0,0.0,1.0]  |\n",
            "+------+-----------------------------------------+\n",
            "only showing top 5 rows\n"
          ]
        }
      ],
      "source": [
        "#| eval: true\n",
        "#| echo: false\n",
        "#| fig-align: center\n",
        "\n",
        "from pyspark.sql.functions import col, pow\n",
        "from pyspark.ml.feature import StringIndexer, OneHotEncoder, VectorAssembler\n",
        "from pyspark.ml import Pipeline\n",
        "from pyspark.sql.types import BooleanType, StringType, IntegerType\n",
        "\n",
        "#Polynomial Regression\n",
        "\n",
        "indexers = [StringIndexer(inputCol=col, outputCol=f\"{col}_idx\", handleInvalid='skip') for col in categorical_columns]\n",
        "encoders = [OneHotEncoder(inputCol=f\"{col}_idx\", outputCol=f\"{col}_vec\") for col in categorical_columns]\n",
        "\n",
        "\n",
        "#Squared Min Years Experience Column\n",
        "\n",
        "poly_data = regression_data.withColumn(\"MIN_YEARS_EXPERIENCE_SQ\", pow(col(\"MIN_YEARS_EXPERIENCE\"), 2))\n",
        "\n",
        "#Assemble Features (For Polynomial Regression)\n",
        "\n",
        "assembler_poly = VectorAssembler(\n",
        "    inputCols=[\n",
        "        \"MIN_YEARS_EXPERIENCE\", \"MIN_YEARS_EXPERIENCE_SQ\", \"DURATION\",\n",
        "        \"IS_INTERNSHIP\"\n",
        "    ] + [f\"{col}_vec\" for col in categorical_columns],\n",
        "    outputCol=\"new_poly_features\"\n",
        ")\n",
        "poly_data = assembler_poly.transform(poly_data)\n",
        "\n",
        "poly_data.select(\"SALARY\", \"new_poly_features\").show(5, truncate=False)\n",
        "\n",
        "\n",
        "\n"
      ]
    },
    {
      "cell_type": "code",
      "execution_count": 32,
      "metadata": {},
      "outputs": [],
      "source": [
        "#| eval: true\n",
        "#| echo: false\n",
        "#| fig-align: center\n",
        "\n",
        "#Creating Train and Test Sets\n",
        "poly_train_data, poly_test_data = poly_data.randomSplit([0.8, 0.2], seed=42)\n",
        "#print((regression_data.count(), len(regression_data.columns)))\n",
        "#print((regression_train_data.count(), len(regression_train_data.columns)))\n",
        "#print((regression_test_data.count(), len(regression_test_data.columns)))"
      ]
    },
    {
      "cell_type": "code",
      "execution_count": 35,
      "metadata": {},
      "outputs": [
        {
          "name": "stderr",
          "output_type": "stream",
          "text": [
            "                                                                                \r"
          ]
        }
      ],
      "source": [
        "#Polynomial Regression\n",
        "\n",
        "from pyspark.ml.regression import GeneralizedLinearRegression\n",
        "\n",
        "feature_names = assembler_poly.getInputCols()\n",
        "\n",
        "poly_glr_min_years = GeneralizedLinearRegression(\n",
        "    featuresCol=\"new_poly_features\",\n",
        "    labelCol=\"SALARY\",\n",
        "    family=\"gaussian\",\n",
        "    link=\"identity\",\n",
        "    maxIter=10,\n",
        "    regParam=0.3\n",
        ")\n",
        "\n",
        "poly_glr_min_years_model = poly_glr_min_years.fit(poly_train_data)\n",
        "poly_summary = poly_glr_min_years_model.summary"
      ]
    },
    {
      "cell_type": "code",
      "execution_count": 36,
      "metadata": {},
      "outputs": [
        {
          "name": "stderr",
          "output_type": "stream",
          "text": [
            "[Stage 109:>                                                        (0 + 1) / 1]\r"
          ]
        },
        {
          "name": "stdout",
          "output_type": "stream",
          "text": [
            "Intercept: 82664.5758\n",
            "Coefficients:\n",
            " MIN_YEARS_EXPERIENCE: 12841.9186\n",
            " MIN_YEARS_EXPERIENCE_SQ: -458.5495\n",
            " DURATION: -90.7714\n",
            " IS_INTERNSHIP: 2021.1601\n",
            " EMPLOYMENT_TYPE_NAME_0: -1126.1755\n",
            " EMPLOYMENT_TYPE_NAME_1: -6690.5657\n",
            " EMPLOYMENT_TYPE_NAME_2: -8295.2198\n",
            " REMOTE_TYPE_NAME_0: -5060.6739\n",
            " REMOTE_TYPE_NAME_1: -2021.1598\n"
          ]
        },
        {
          "name": "stderr",
          "output_type": "stream",
          "text": [
            "                                                                                \r"
          ]
        }
      ],
      "source": [
        "#Poly Coefficients and Intercept\n",
        "# (Used AI to match Coefficient names instead of Feature 1, Feature 2, etc.)\n",
        "\n",
        "from pyspark.sql import DataFrame\n",
        "\n",
        "cat_sizes = [regression_df.select(col).distinct().count() for col in categorical_columns]\n",
        "poly_expanded_feature_names = [\"MIN_YEARS_EXPERIENCE\", \"MIN_YEARS_EXPERIENCE_SQ\", \"DURATION\", \"IS_INTERNSHIP\"]\n",
        "for col, size in zip(categorical_columns, cat_sizes):\n",
        "    poly_expanded_feature_names += [f\"{col}_{i}\" for i in range(size)]\n",
        "\n",
        "\n",
        "\n",
        "print(\"Intercept: {:.4f}\".format(poly_glr_min_years_model.intercept))\n",
        "print(\"Coefficients:\")\n",
        "for i, coef in enumerate(poly_glr_min_years_model.coefficients):\n",
        "    print(f\" {poly_expanded_feature_names[i]}: {coef:.4f}\")"
      ]
    },
    {
      "cell_type": "code",
      "execution_count": 37,
      "metadata": {},
      "outputs": [
        {
          "name": "stdout",
          "output_type": "stream",
          "text": [
            "\n",
            "---Polynomial Regression Model Summary---\n"
          ]
        },
        {
          "name": "stderr",
          "output_type": "stream",
          "text": [
            "                                                                                \r"
          ]
        },
        {
          "name": "stdout",
          "output_type": "stream",
          "text": [
            "Coefficient Standard Errors: ['292.1367', '20.7488', '23.2672', '1364347.4552', '2035.6125', '2584.1001', '1546.5315', '1616.4788', '1364347.4552', '1364349.9168']\n",
            "T Values: ['43.9586', '-22.1000', '-3.9013', '0.0015', '-0.5532', '-2.5891', '-5.3638', '-3.1307', '-0.0015', '0.0606']\n",
            "P Values: ['0.0000', '0.0000', '0.0001', '0.9988', '0.5801', '0.0096', '0.0000', '0.0017', '0.9988', '0.9517']\n"
          ]
        },
        {
          "name": "stderr",
          "output_type": "stream",
          "text": [
            "[Stage 118:>                                                        (0 + 1) / 1]\r"
          ]
        },
        {
          "name": "stdout",
          "output_type": "stream",
          "text": [
            "Null Deviance: 35794690345776.1094\n",
            "Residual DF Null: 18965\n",
            "Deviance: 25756421776048.0586\n",
            "Residual DF: 18956\n"
          ]
        },
        {
          "name": "stderr",
          "output_type": "stream",
          "text": [
            "[Stage 119:>                                                        (0 + 1) / 1]\r"
          ]
        },
        {
          "name": "stdout",
          "output_type": "stream",
          "text": [
            "AIC: 452686.9167\n"
          ]
        },
        {
          "name": "stderr",
          "output_type": "stream",
          "text": [
            "                                                                                \r"
          ]
        }
      ],
      "source": [
        "#Summary Statistics\n",
        "print(\"\\n---Polynomial Regression Model Summary---\")\n",
        "print(\"Coefficient Standard Errors:\", [f\"{val:.4f}\" for val in poly_summary.coefficientStandardErrors])\n",
        "print(\"T Values:\", [f\"{val:.4f}\" for val in poly_summary.tValues])\n",
        "print(\"P Values:\", [f\"{val:.4f}\" for val in poly_summary.pValues])\n",
        "\n",
        "print(f\"Null Deviance: {poly_summary.nullDeviance:.4f}\")\n",
        "print(f\"Residual DF Null: {poly_summary.residualDegreeOfFreedomNull}\")\n",
        "print(f\"Deviance: {poly_summary.deviance:.4f}\")\n",
        "print(f\"Residual DF: {poly_summary.residualDegreeOfFreedom}\")\n",
        "print(f\"AIC: {poly_summary.aic:.4f}\")\n",
        "\n"
      ]
    },
    {
      "cell_type": "code",
      "execution_count": 38,
      "metadata": {},
      "outputs": [
        {
          "name": "stdout",
          "output_type": "stream",
          "text": [
            "Length of feature names: 10\n",
            "Length of coefficients: 10\n",
            "Length of standard errors: 10\n",
            "Length of t-values: 10\n",
            "Length of p-values: 10\n"
          ]
        }
      ],
      "source": [
        "feature_poly = poly_summary._call_java(\"featureNames\")\n",
        "\n",
        "poly_features = [\"Intercept\"] + feature_poly\n",
        "poly_coefs = [poly_glr_min_years_model.intercept] + list(poly_glr_min_years_model.coefficients)\n",
        "poly_se = list(poly_summary.coefficientStandardErrors)\n",
        "poly_tvals = list(poly_summary.tValues)\n",
        "poly_pvals = list(poly_summary.pValues)   \n",
        "\n",
        "print(\"Length of feature names:\", len(poly_features))\n",
        "print(\"Length of coefficients:\", len(poly_coefs))\n",
        "print(\"Length of standard errors:\", len(poly_se))\n",
        "print(\"Length of t-values:\", len(poly_tvals))\n",
        "print(\"Length of p-values:\", len(poly_pvals))    "
      ]
    },
    {
      "cell_type": "code",
      "execution_count": 39,
      "metadata": {},
      "outputs": [
        {
          "data": {
            "text/html": [
              "<table border=\"1\" class=\"dataframe\">\n",
              "  <thead>\n",
              "    <tr style=\"text-align: right;\">\n",
              "      <th></th>\n",
              "      <th>Feature</th>\n",
              "      <th>Estimate</th>\n",
              "      <th>Std Error</th>\n",
              "      <th>t-stat</th>\n",
              "      <th>p-Value</th>\n",
              "    </tr>\n",
              "  </thead>\n",
              "  <tbody>\n",
              "    <tr>\n",
              "      <th>0</th>\n",
              "      <td>Intercept</td>\n",
              "      <td>82664.5758</td>\n",
              "      <td>292.1367</td>\n",
              "      <td>43.9586</td>\n",
              "      <td>0.0000</td>\n",
              "    </tr>\n",
              "    <tr>\n",
              "      <th>1</th>\n",
              "      <td>MIN_YEARS_EXPERIENCE</td>\n",
              "      <td>12841.9186</td>\n",
              "      <td>20.7488</td>\n",
              "      <td>-22.1000</td>\n",
              "      <td>0.0000</td>\n",
              "    </tr>\n",
              "    <tr>\n",
              "      <th>2</th>\n",
              "      <td>MIN_YEARS_EXPERIENCE_SQ</td>\n",
              "      <td>-458.5495</td>\n",
              "      <td>23.2672</td>\n",
              "      <td>-3.9013</td>\n",
              "      <td>0.0001</td>\n",
              "    </tr>\n",
              "    <tr>\n",
              "      <th>3</th>\n",
              "      <td>DURATION</td>\n",
              "      <td>-90.7714</td>\n",
              "      <td>1364347.4552</td>\n",
              "      <td>0.0015</td>\n",
              "      <td>0.9988</td>\n",
              "    </tr>\n",
              "    <tr>\n",
              "      <th>4</th>\n",
              "      <td>IS_INTERNSHIP</td>\n",
              "      <td>2021.1601</td>\n",
              "      <td>2035.6125</td>\n",
              "      <td>-0.5532</td>\n",
              "      <td>0.5801</td>\n",
              "    </tr>\n",
              "    <tr>\n",
              "      <th>5</th>\n",
              "      <td>EMPLOYMENT_TYPE_NAME_vec_Full-Time</td>\n",
              "      <td>-1126.1755</td>\n",
              "      <td>2584.1001</td>\n",
              "      <td>-2.5891</td>\n",
              "      <td>0.0096</td>\n",
              "    </tr>\n",
              "    <tr>\n",
              "      <th>6</th>\n",
              "      <td>EMPLOYMENT_TYPE_NAME_vec_Part-Time</td>\n",
              "      <td>-6690.5657</td>\n",
              "      <td>1546.5315</td>\n",
              "      <td>-5.3638</td>\n",
              "      <td>0.0000</td>\n",
              "    </tr>\n",
              "    <tr>\n",
              "      <th>7</th>\n",
              "      <td>REMOTE_TYPE_NAME_vec_On-site</td>\n",
              "      <td>-8295.2198</td>\n",
              "      <td>1616.4788</td>\n",
              "      <td>-3.1307</td>\n",
              "      <td>0.0017</td>\n",
              "    </tr>\n",
              "    <tr>\n",
              "      <th>8</th>\n",
              "      <td>REMOTE_TYPE_NAME_vec_Remote</td>\n",
              "      <td>-5060.6739</td>\n",
              "      <td>1364347.4552</td>\n",
              "      <td>-0.0015</td>\n",
              "      <td>0.9988</td>\n",
              "    </tr>\n",
              "    <tr>\n",
              "      <th>9</th>\n",
              "      <td>IS_INTERNSHIP_vec_0</td>\n",
              "      <td>-2021.1598</td>\n",
              "      <td>1364349.9168</td>\n",
              "      <td>0.0606</td>\n",
              "      <td>0.9517</td>\n",
              "    </tr>\n",
              "  </tbody>\n",
              "</table>"
            ],
            "text/plain": [
              "<IPython.core.display.HTML object>"
            ]
          },
          "execution_count": 39,
          "metadata": {},
          "output_type": "execute_result"
        }
      ],
      "source": [
        "import pandas as pd\n",
        "from tabulate import tabulate\n",
        "import pandas as pd\n",
        "from IPython.display import display, HTML\n",
        "\n",
        "poly_coef_table = pd.DataFrame({\n",
        "     \"Feature\": poly_features,\n",
        "    \"Estimate\": [f\"{v:.4f}\" if v is not None else None for v in poly_coefs],\n",
        "    \"Std Error\": [f\"{v:.4f}\" if v is not None else None for v in poly_se],\n",
        "    \"t-stat\": [f\"{v:.4f}\" if v is not None else None for v in poly_tvals],\n",
        "    \"p-Value\": [f\"{v:.4f}\" if v is not None else None for v in poly_pvals]\n",
        "})\n",
        "\n",
        "poly_coef_table.to_csv(\"output/poly_min_years_glr_summary.csv\", index=False)\n",
        "\n",
        "HTML(poly_coef_table.to_html())"
      ]
    },
    {
      "cell_type": "code",
      "execution_count": 40,
      "metadata": {},
      "outputs": [
        {
          "name": "stderr",
          "output_type": "stream",
          "text": [
            "                                                                                \r"
          ]
        }
      ],
      "source": [
        "#Random Forest Regression\n",
        "\n",
        "from pyspark.ml.regression import RandomForestRegressor\n",
        "\n",
        "rf = RandomForestRegressor(featuresCol=\"features\", labelCol=\"SALARY\",numTrees=100, maxDepth=4, seed=42)\n",
        "\n",
        "rf_model = rf.fit(regression_train_data.select(\"SALARY\", \"features\"))\n",
        "\n",
        "rf_predictions = rf_model.transform(regression_test_data.select(\"SALARY\", \"features\"))"
      ]
    },
    {
      "cell_type": "code",
      "execution_count": 42,
      "metadata": {},
      "outputs": [
        {
          "name": "stdout",
          "output_type": "stream",
          "text": [
            "Length of feature names: 8\n",
            "Length of importances: 8\n"
          ]
        }
      ],
      "source": [
        "#Plotting Feature Importances  \n",
        "\n",
        "import matplotlib.pyplot as plt\n",
        "import seaborn as sns\n",
        "\n",
        "def get_actual_feature_names(df, assembler, encoded_cols):\n",
        "    full_feature_names = []\n",
        "\n",
        "    for col_name in assembler.getInputCols():\n",
        "        if col_name in encoded_cols:\n",
        "            try:\n",
        "                attr_meta = df.schema[col_name].metadata['ml_attr']['attrs']\n",
        "                for attr_group in attr_meta.values():\n",
        "                    for attr in attr_group:\n",
        "                        full_feature_names.append(attr['name'])\n",
        "            except:\n",
        "                full_feature_names.append(col_name)\n",
        "        else:\n",
        "            full_feature_names.append(col_name)\n",
        "    return full_feature_names\n",
        "encoded_cols = [f\"{col}_vec\" for col in categorical_columns]\n",
        "feature_names = get_actual_feature_names(regression_train_data, assembler, encoded_cols)\n",
        "importances = rf_model.featureImportances.toArray()\n",
        "\n",
        "print(\"Length of feature names:\", len(feature_names))\n",
        "print(\"Length of importances:\", len(importances))"
      ]
    },
    {
      "cell_type": "code",
      "execution_count": 43,
      "metadata": {},
      "outputs": [
        {
          "data": {
            "image/png": "[encoded data removed]",
            "text/plain": [
              "<Figure size 1000x600 with 1 Axes>"
            ]
          },
          "metadata": {},
          "output_type": "display_data"
        }
      ],
      "source": [
        "#| eval: true\n",
        "#| echo: false\n",
        "#| fig-align: center\n",
        "\n",
        "def clean_feature_name(feature_list):\n",
        "    clean_names = []\n",
        "    for name in feature_list:\n",
        "        if isinstance(name, list):\n",
        "            clean_names.append(\", \".join(str(n) for n in name))\n",
        "        elif isinstance(name, str) and name.startswith(\"[\"):\n",
        "            clean_names.append(name.replace(\"[\",\"\").replace(\"]\", \"\").replace(\"'\", \"\").replace(\"'\",'').strip())\n",
        "        else:\n",
        "            clean_names.append(str(name))\n",
        "    return clean_names\n",
        "\n",
        "importance_df = pd.DataFrame({\n",
        "    \"Feature\": feature_names,\n",
        "    \"Importance\": importances\n",
        "}).sort_values(by=\"Importance\", ascending=False)\n",
        "\n",
        "importance_df[\"Feature\"] = clean_feature_name(importance_df[\"Feature\"])\n",
        "\n",
        "plt.figure(figsize=(10, 6))\n",
        "sns.barplot(data=importance_df, x=\"Importance\", y=\"Feature\", hue=\"Importance\", palette=\"mako\", legend=False)\n",
        "plt.title(\"Top (8) Feature Importances: Random Forest\", fontsize=14, fontweight='bold', loc='left')\n",
        "plt.xlabel(\"Importance\", fontsize=12, fontweight='bold')\n",
        "plt.ylabel(\"Feature\", fontsize=12, fontweight='bold')\n",
        "plt.tight_layout()\n",
        "plt.savefig(\"output/rf_feature_importance.png\", dpi=300)\n",
        "plt.show()"
      ]
    }
  ],
  "metadata": {
    "kernelspec": {
      "display_name": ".venv",
      "language": "python",
      "name": "python3"
    },
    "language_info": {
      "codemirror_mode": {
        "name": "ipython",
        "version": 3
      },
      "file_extension": ".py",
      "mimetype": "text/x-python",
      "name": "python",
      "nbconvert_exporter": "python",
      "pygments_lexer": "ipython3",
      "version": "3.12.3"
    }
  },
  "nbformat": 4,
  "nbformat_minor": 4
}
