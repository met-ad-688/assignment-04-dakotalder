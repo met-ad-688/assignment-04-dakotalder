{
  "cells": [
    {
      "cell_type": "markdown",
      "metadata": {},
      "source": [
        "---\n",
        "title: Assignment 04\n",
        "author:\n",
        "  - name: Dakota Alder\n",
        "    affiliations:\n",
        "      - id: bu\n",
        "        name: Boston University\n",
        "        city: Boston\n",
        "        state: MA\n",
        "number-sections: true\n",
        "date: '2025-10-05'\n",
        "date-modified: today\n",
        "date-format: long\n",
        "format:\n",
        "  html:\n",
        "    theme: cerulean\n",
        "    toc: true\n",
        "    toc-depth: 2\n",
        "\n",
        "execute:\n",
        "  echo: false\n",
        "  eval: false\n",
        "  freeze: auto\n",
        "---"
      ]
    },
    {
      "cell_type": "code",
      "execution_count": 3,
      "metadata": {},
      "outputs": [
        {
          "name": "stderr",
          "output_type": "stream",
          "text": [
            "WARNING: Using incubator modules: jdk.incubator.vector\n",
            "Using Spark's default log4j profile: org/apache/spark/log4j2-defaults.properties\n",
            "Setting default log level to \"WARN\".\n",
            "To adjust logging level use sc.setLogLevel(newLevel). For SparkR, use setLogLevel(newLevel).\n",
            "25/10/07 13:52:53 WARN NativeCodeLoader: Unable to load native-hadoop library for your platform... using builtin-java classes where applicable\n",
            "                                                                                \r"
          ]
        }
      ],
      "source": [
        "from pyspark.sql import SparkSession\n",
        "import pandas as pd\n",
        "import plotly.express as px\n",
        "import plotly.io as pio\n",
        "import numpy as np\n",
        "\n",
        "np.random.seed(42)\n",
        "\n",
        "pio.renderers.default = \"notebook+notebook_connected+vscode\"\n",
        "\n",
        "# Initialize Spark Session\n",
        "spark = SparkSession.builder.appName(\"LightcastData\").getOrCreate()\n",
        "\n",
        "# Load Data\n",
        "df = spark.read.option(\"header\", \"true\").option(\"inferSchema\", \"true\").option(\"multiLine\",\"true\").option(\"escape\", \"\\\"\").csv(\"data/lightcast_job_postings.csv\")"
      ]
    },
    {
      "cell_type": "code",
      "execution_count": null,
      "metadata": {},
      "outputs": [],
      "source": [
        "# Missing Value Treatment\n",
        "\n"
      ]
    },
    {
      "cell_type": "code",
      "execution_count": null,
      "metadata": {},
      "outputs": [],
      "source": []
    },
    {
      "cell_type": "code",
      "execution_count": 4,
      "metadata": {},
      "outputs": [
        {
          "name": "stdout",
          "output_type": "stream",
          "text": [
            "+------+--------------------+--------------------+------------------------------------------------------------------------------------+----------------------+----------------+--------+-------------+-------------------+\n",
            "|SALARY|MIN_YEARS_EXPERIENCE|MAX_YEARS_EXPERIENCE|EDUCATION_LEVELS_NAME                                                               |EMPLOYMENT_TYPE_NAME  |REMOTE_TYPE_NAME|DURATION|IS_INTERNSHIP|COMPANY_IS_STAFFING|\n",
            "+------+--------------------+--------------------+------------------------------------------------------------------------------------+----------------------+----------------+--------+-------------+-------------------+\n",
            "|131100|2                   |2                   |[\\n  \"Bachelor's degree\"\\n]                                                         |Full-time (> 32 hours)|[None]          |11      |0            |0                  |\n",
            "|136950|3                   |3                   |[\\n  \"Bachelor's degree\",\\n  \"Master's degree\",\\n  \"Ph.D. or professional degree\"\\n]|Full-time (> 32 hours)|Remote          |28      |0            |0                  |\n",
            "|136950|3                   |3                   |[\\n  \"Bachelor's degree\",\\n  \"Master's degree\",\\n  \"Ph.D. or professional degree\"\\n]|Full-time (> 32 hours)|Remote          |28      |0            |0                  |\n",
            "|104000|3                   |3                   |[\\n  \"Bachelor's degree\"\\n]                                                         |Full-time (> 32 hours)|[None]          |8       |0            |0                  |\n",
            "|80000 |3                   |3                   |[\\n  \"Bachelor's degree\"\\n]                                                         |Full-time (> 32 hours)|[None]          |37      |0            |0                  |\n",
            "+------+--------------------+--------------------+------------------------------------------------------------------------------------+----------------------+----------------+--------+-------------+-------------------+\n",
            "only showing top 5 rows\n"
          ]
        }
      ],
      "source": [
        "#| eval: true\n",
        "#| echo: false\n",
        "#| fig-align: center\n",
        "\n",
        "from pyspark.sql.functions import col, pow\n",
        "from pyspark.ml.feature import StringIndexer, OneHotEncoder, VectorAssembler\n",
        "from pyspark.ml import Pipeline\n",
        "from pyspark.sql.types import BooleanType, StringType, IntegerType\n",
        "\n",
        "# Data Cleaning\n",
        "\n",
        "regression_df = df.dropna(subset=[\n",
        "    \"SALARY\", \"MIN_YEARS_EXPERIENCE\", \"MAX_YEARS_EXPERIENCE\", \"EDUCATION_LEVELS_NAME\",\n",
        "    \"EMPLOYMENT_TYPE_NAME\", \"REMOTE_TYPE_NAME\", \"DURATION\", \"IS_INTERNSHIP\", \"COMPANY_IS_STAFFING\"\n",
        "]).select(\"SALARY\", \"MIN_YEARS_EXPERIENCE\", \"MAX_YEARS_EXPERIENCE\", \"EDUCATION_LEVELS_NAME\",\n",
        "    \"EMPLOYMENT_TYPE_NAME\", \"REMOTE_TYPE_NAME\", \"DURATION\", \"IS_INTERNSHIP\", \"COMPANY_IS_STAFFING\")\n",
        "\n",
        "#Categorical Encoding\n",
        "categorical_columns = [\"EDUCATION_LEVELS_NAME\", \"EMPLOYMENT_TYPE_NAME\", \"REMOTE_TYPE_NAME\", \"DURATION\", \"IS_INTERNSHIP\", \"COMPANY_IS_STAFFING\"]\n",
        "\n",
        "#Convert Boolean to Integer\n",
        "regression_df = regression_df.withColumn(\"IS_INTERNSHIP\", col(\"IS_INTERNSHIP\").cast(IntegerType()))\n",
        "regression_df = regression_df.withColumn(\"COMPANY_IS_STAFFING\", col(\"COMPANY_IS_STAFFING\").cast(IntegerType()))\n",
        "\n",
        "regression_df.show(5, truncate=False)\n"
      ]
    },
    {
      "cell_type": "code",
      "execution_count": 5,
      "metadata": {},
      "outputs": [
        {
          "name": "stderr",
          "output_type": "stream",
          "text": [
            "                                                                                \r"
          ]
        },
        {
          "name": "stdout",
          "output_type": "stream",
          "text": [
            "+------+--------------------------------------------------------------------+\n",
            "|SALARY|features                                                            |\n",
            "+------+--------------------------------------------------------------------+\n",
            "|131100|(87,[0,1,2,5,22,24,27,85,86],[2.0,2.0,11.0,1.0,1.0,1.0,1.0,1.0,1.0])|\n",
            "|136950|(87,[0,1,2,9,22,25,48,85,86],[3.0,3.0,28.0,1.0,1.0,1.0,1.0,1.0,1.0])|\n",
            "|136950|(87,[0,1,2,9,22,25,48,85,86],[3.0,3.0,28.0,1.0,1.0,1.0,1.0,1.0,1.0])|\n",
            "|104000|(87,[0,1,2,5,22,24,30,85,86],[3.0,3.0,8.0,1.0,1.0,1.0,1.0,1.0,1.0]) |\n",
            "|80000 |(87,[0,1,2,5,22,24,64,85,86],[3.0,3.0,37.0,1.0,1.0,1.0,1.0,1.0,1.0])|\n",
            "+------+--------------------------------------------------------------------+\n",
            "only showing top 5 rows\n"
          ]
        }
      ],
      "source": [
        "\n",
        "#Clean education levels\n",
        "from pyspark.sql.functions import regexp_replace, trim\n",
        "regression_df = regression_df.withColumn(\"EDUCATION_LEVELS_NAME\", trim(regexp_replace(col(\"EDUCATION_LEVELS_NAME\"), r\"[\\[\\]\\n]\",\"\")))\n",
        "\n",
        "\n",
        "#Indexing and One-Hot Encoding\n",
        "\n",
        "indexers = [StringIndexer(inputCol=col, outputCol=f\"{col}_idx\", handleInvalid='skip') for col in categorical_columns]\n",
        "encoders = [OneHotEncoder(inputCol=f\"{col}_idx\", outputCol=f\"{col}_vec\") for col in categorical_columns]\n",
        "\n",
        "#Assemble Features\n",
        "assembler = VectorAssembler(\n",
        "    inputCols=[\n",
        "        \"MIN_YEARS_EXPERIENCE\", \"MAX_YEARS_EXPERIENCE\", \"DURATION\",\n",
        "        \"IS_INTERNSHIP\", \"COMPANY_IS_STAFFING\"\n",
        "        ] + [f\"{col}_vec\" for col in categorical_columns],\n",
        "    outputCol=\"features\"\n",
        ")\n",
        "\n",
        "pipeline = Pipeline(stages=indexers + encoders + [assembler])\n",
        "regression_data = pipeline.fit(regression_df).transform(regression_df)\n",
        "\n",
        "regression_data.select(\"SALARY\", \"features\").show(5, truncate=False)\n",
        "\n",
        "\n",
        "\n"
      ]
    },
    {
      "cell_type": "code",
      "execution_count": 6,
      "metadata": {},
      "outputs": [
        {
          "name": "stderr",
          "output_type": "stream",
          "text": [
            "                                                                                \r"
          ]
        },
        {
          "name": "stdout",
          "output_type": "stream",
          "text": [
            "(2243, 22)\n"
          ]
        },
        {
          "name": "stderr",
          "output_type": "stream",
          "text": [
            "                                                                                \r"
          ]
        },
        {
          "name": "stdout",
          "output_type": "stream",
          "text": [
            "(1848, 22)\n"
          ]
        },
        {
          "name": "stderr",
          "output_type": "stream",
          "text": [
            "[Stage 46:>                                                         (0 + 1) / 1]\r"
          ]
        },
        {
          "name": "stdout",
          "output_type": "stream",
          "text": [
            "(395, 22)\n"
          ]
        },
        {
          "name": "stderr",
          "output_type": "stream",
          "text": [
            "                                                                                \r"
          ]
        }
      ],
      "source": [
        "#| eval: true\n",
        "#| echo: false\n",
        "#| fig-align: center\n",
        "\n",
        "regression_train_data, regression_test_data = regression_data.randomSplit([0.8, 0.2], seed=42)\n",
        "print((regression_data.count(), len(regression_data.columns)))\n",
        "print((regression_train_data.count(), len(regression_train_data.columns)))\n",
        "print((regression_test_data.count(), len(regression_test_data.columns)))"
      ]
    }
  ],
  "metadata": {
    "kernelspec": {
      "display_name": ".venv",
      "language": "python",
      "name": "python3"
    },
    "language_info": {
      "codemirror_mode": {
        "name": "ipython",
        "version": 3
      },
      "file_extension": ".py",
      "mimetype": "text/x-python",
      "name": "python",
      "nbconvert_exporter": "python",
      "pygments_lexer": "ipython3",
      "version": "3.12.3"
    }
  },
  "nbformat": 4,
  "nbformat_minor": 4
}
