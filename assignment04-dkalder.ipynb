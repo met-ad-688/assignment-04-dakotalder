{
  "cells": [
    {
      "cell_type": "markdown",
      "metadata": {},
      "source": [
        "---\n",
        "title: Assignment 04\n",
        "author:\n",
        "  - name: Dakota Alder\n",
        "    affiliations:\n",
        "      - id: bu\n",
        "        name: Boston University\n",
        "        city: Boston\n",
        "        state: MA\n",
        "number-sections: true\n",
        "date: '2025-10-05'\n",
        "date-modified: today\n",
        "date-format: long\n",
        "format:\n",
        "  html:\n",
        "    theme: cerulean\n",
        "    toc: true\n",
        "    toc-depth: 2\n",
        "\n",
        "execute:\n",
        "  echo: false\n",
        "  eval: false\n",
        "  freeze: auto\n",
        "---"
      ]
    },
    {
      "cell_type": "code",
      "execution_count": 1,
      "metadata": {},
      "outputs": [
        {
          "name": "stderr",
          "output_type": "stream",
          "text": [
            "WARNING: Using incubator modules: jdk.incubator.vector\n",
            "Using Spark's default log4j profile: org/apache/spark/log4j2-defaults.properties\n",
            "Setting default log level to \"WARN\".\n",
            "To adjust logging level use sc.setLogLevel(newLevel). For SparkR, use setLogLevel(newLevel).\n",
            "25/10/07 12:49:11 WARN NativeCodeLoader: Unable to load native-hadoop library for your platform... using builtin-java classes where applicable\n",
            "                                                                                \r"
          ]
        }
      ],
      "source": [
        "from pyspark.sql import SparkSession\n",
        "import pandas as pd\n",
        "import plotly.express as px\n",
        "import plotly.io as pio\n",
        "import numpy as np\n",
        "\n",
        "np.random.seed(42)\n",
        "\n",
        "pio.renderers.default = \"notebook+notebook_connected+vscode\"\n",
        "\n",
        "# Initialize Spark Session\n",
        "spark = SparkSession.builder.appName(\"LightcastData\").getOrCreate()\n",
        "\n",
        "# Load Data\n",
        "df = spark.read.option(\"header\", \"true\").option(\"inferSchema\", \"true\").option(\"multiLine\",\"true\").option(\"escape\", \"\\\"\").csv(\"data/lightcast_job_postings.csv\")"
      ]
    },
    {
      "cell_type": "code",
      "execution_count": 4,
      "metadata": {},
      "outputs": [
        {
          "name": "stdout",
          "output_type": "stream",
          "text": [
            "+------+--------------------+--------------------+---------------------+--------------------+----------------+--------+-------------+-------------------+\n",
            "|SALARY|MIN_YEARS_EXPERIENCE|MAX_YEARS_EXPERIENCE|EDUCATION_LEVELS_NAME|EMPLOYMENT_TYPE_NAME|REMOTE_TYPE_NAME|DURATION|IS_INTERNSHIP|COMPANY_IS_STAFFING|\n",
            "+------+--------------------+--------------------+---------------------+--------------------+----------------+--------+-------------+-------------------+\n",
            "|131100|                   2|                   2| [\\n  \"Bachelor's ...|Full-time (> 32 h...|          [None]|      11|        false|              false|\n",
            "|136950|                   3|                   3| [\\n  \"Bachelor's ...|Full-time (> 32 h...|          Remote|      28|        false|              false|\n",
            "|136950|                   3|                   3| [\\n  \"Bachelor's ...|Full-time (> 32 h...|          Remote|      28|        false|              false|\n",
            "|104000|                   3|                   3| [\\n  \"Bachelor's ...|Full-time (> 32 h...|          [None]|       8|        false|              false|\n",
            "| 80000|                   3|                   3| [\\n  \"Bachelor's ...|Full-time (> 32 h...|          [None]|      37|        false|              false|\n",
            "+------+--------------------+--------------------+---------------------+--------------------+----------------+--------+-------------+-------------------+\n",
            "only showing top 5 rows\n"
          ]
        }
      ],
      "source": [
        "df = df.dropna(subset=[\n",
        "    \"SALARY\", \"MIN_YEARS_EXPERIENCE\", \"MAX_YEARS_EXPERIENCE\", \"EDUCATION_LEVELS_NAME\",\n",
        "    \"EMPLOYMENT_TYPE_NAME\", \"REMOTE_TYPE_NAME\", \"DURATION\", \"IS_INTERNSHIP\", \"COMPANY_IS_STAFFING\"\n",
        "]).select(\"SALARY\", \"MIN_YEARS_EXPERIENCE\", \"MAX_YEARS_EXPERIENCE\", \"EDUCATION_LEVELS_NAME\",\n",
        "    \"EMPLOYMENT_TYPE_NAME\", \"REMOTE_TYPE_NAME\", \"DURATION\", \"IS_INTERNSHIP\", \"COMPANY_IS_STAFFING\")\n",
        "df.show(5)"
      ]
    }
  ],
  "metadata": {
    "kernelspec": {
      "display_name": ".venv",
      "language": "python",
      "name": "python3"
    },
    "language_info": {
      "codemirror_mode": {
        "name": "ipython",
        "version": 3
      },
      "file_extension": ".py",
      "mimetype": "text/x-python",
      "name": "python",
      "nbconvert_exporter": "python",
      "pygments_lexer": "ipython3",
      "version": "3.12.3"
    }
  },
  "nbformat": 4,
  "nbformat_minor": 4
}
